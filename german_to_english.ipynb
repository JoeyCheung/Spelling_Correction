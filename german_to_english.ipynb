{
 "cells": [
  {
   "cell_type": "markdown",
   "metadata": {},
   "source": [
    "### Import Required Libraries"
   ]
  },
  {
   "cell_type": "code",
   "execution_count": 14,
   "metadata": {},
   "outputs": [],
   "source": [
    "import string\n",
    "import re\n",
    "from numpy import array, argmax, random, take\n",
    "import pandas as pd\n",
    "from keras.models import Sequential\n",
    "from keras.layers import Dense, LSTM, Embedding, Bidirectional, RepeatVector, TimeDistributed\n",
    "from keras.preprocessing.text import Tokenizer\n",
    "from keras.callbacks import ModelCheckpoint\n",
    "from keras.preprocessing.sequence import pad_sequences\n",
    "from keras.models import load_model\n",
    "from keras import optimizers\n",
    "import matplotlib.pyplot as plt\n",
    "%matplotlib inline\n",
    "pd.set_option('display.max_colwidth', 200)"
   ]
  },
  {
   "cell_type": "markdown",
   "metadata": {},
   "source": [
    "### Read Data"
   ]
  },
  {
   "cell_type": "markdown",
   "metadata": {},
   "source": [
    "Our data is a text file of English-German sentence pairs. First we will read the file using the function defined below."
   ]
  },
  {
   "cell_type": "code",
   "execution_count": 15,
   "metadata": {},
   "outputs": [],
   "source": [
    "# function to read raw text file\n",
    "def read_text(filename):\n",
    "    # open the file\n",
    "    file = open(filename, mode='rt', encoding='utf-8')\n",
    "    # read all text\n",
    "    text = file.read()\n",
    "    file.close()\n",
    "    return text"
   ]
  },
  {
   "cell_type": "markdown",
   "metadata": {},
   "source": [
    "Now let's define a function to split the text into English-German pairs separated by '\\n' and then split these pairs into English sentences and German sentences."
   ]
  },
  {
   "cell_type": "code",
   "execution_count": 16,
   "metadata": {},
   "outputs": [],
   "source": [
    "# split a text into sentences\n",
    "def to_lines(text):\n",
    "    sents = text.strip().split('\\n')\n",
    "    sents = [i.split('\\t') for i in sents]\n",
    "    return sents"
   ]
  },
  {
   "cell_type": "markdown",
   "metadata": {},
   "source": [
    "__Download the data from [here.](http://www.manythings.org/anki/deu-eng.zip)__ and extract \"deu.txt\" in your working directory."
   ]
  },
  {
   "cell_type": "code",
   "execution_count": 17,
   "metadata": {},
   "outputs": [],
   "source": [
    "data = read_text(\"deu.txt\")\n",
    "deu_eng = to_lines(data)\n",
    "deu_eng = array(deu_eng)"
   ]
  },
  {
   "cell_type": "markdown",
   "metadata": {},
   "source": [
    "The actual data contains over 150,000 sentence-pairs. However, we will use the first 50,000 sentence pairs only to reduce the training time of the model. You can change this number as per you system computation power."
   ]
  },
  {
   "cell_type": "code",
   "execution_count": 18,
   "metadata": {},
   "outputs": [],
   "source": [
    "deu_eng = deu_eng[:50000,:]"
   ]
  },
  {
   "cell_type": "markdown",
   "metadata": {},
   "source": [
    "### Text Pre-Processing"
   ]
  },
  {
   "cell_type": "markdown",
   "metadata": {},
   "source": [
    "#### Text Cleaning\n",
    "\n",
    "Let's take a look at our data, then we will decide which pre-processing steps to adopt."
   ]
  },
  {
   "cell_type": "code",
   "execution_count": 19,
   "metadata": {
    "scrolled": true
   },
   "outputs": [
    {
     "data": {
      "text/plain": [
       "array([['Hi.', 'Hallo!',\n",
       "        'CC-BY 2.0 (France) Attribution: tatoeba.org #538123 (CM) & #380701 (cburgmer)'],\n",
       "       ['Hi.', 'Grüß Gott!',\n",
       "        'CC-BY 2.0 (France) Attribution: tatoeba.org #538123 (CM) & #659813 (Esperantostern)'],\n",
       "       ['Run!', 'Lauf!',\n",
       "        'CC-BY 2.0 (France) Attribution: tatoeba.org #906328 (papabear) & #941078 (Fingerhut)'],\n",
       "       ...,\n",
       "       ['I wholeheartedly agree.', 'Ich stimme rückhaltlos zu.',\n",
       "        'CC-BY 2.0 (France) Attribution: tatoeba.org #1488273 (Spamster) & #1693172 (al_ex_an_der)'],\n",
       "       ['I will always love you.', 'Ich werde dich immer lieben.',\n",
       "        'CC-BY 2.0 (France) Attribution: tatoeba.org #853146 (piksea) & #395302 (xtofu80)'],\n",
       "       ['I will be back by nine.', 'Um neun bin ich wieder zurück.',\n",
       "        'CC-BY 2.0 (France) Attribution: tatoeba.org #72281 (CK) & #345033 (lilygilder)']],\n",
       "      dtype='<U537')"
      ]
     },
     "execution_count": 19,
     "metadata": {},
     "output_type": "execute_result"
    }
   ],
   "source": [
    "deu_eng"
   ]
  },
  {
   "cell_type": "markdown",
   "metadata": {},
   "source": [
    "We will get rid of the punctuation marks, and then convert the text to lower case."
   ]
  },
  {
   "cell_type": "code",
   "execution_count": 24,
   "metadata": {},
   "outputs": [
    {
     "data": {
      "text/plain": [
       "array(['CCBY 20 France Attribution tatoebaorg 538123 CM  380701 cburgmer',\n",
       "       'CCBY 20 France Attribution tatoebaorg 538123 CM  659813 Esperantostern',\n",
       "       'CCBY 20 France Attribution tatoebaorg 906328 papabear  941078 Fingerhut',\n",
       "       ...,\n",
       "       'CCBY 20 France Attribution tatoebaorg 1488273 Spamster  1693172 alexander',\n",
       "       'CCBY 20 France Attribution tatoebaorg 853146 piksea  395302 xtofu80',\n",
       "       'CCBY 20 France Attribution tatoebaorg 72281 CK  345033 lilygilder'],\n",
       "      dtype='<U537')"
      ]
     },
     "execution_count": 24,
     "metadata": {},
     "output_type": "execute_result"
    }
   ],
   "source": [
    "deu_eng[:, 2] = [s.translate(str.maketrans('', '', string.punctuation)) for s in deu_eng[:,2]]\n",
    "deu_eng[:, 2]"
   ]
  },
  {
   "cell_type": "code",
   "execution_count": 7,
   "metadata": {},
   "outputs": [],
   "source": [
    "# Remove punctuation\n",
    "deu_eng[:,0] = [s.translate(str.maketrans('', '', string.punctuation)) for s in deu_eng[:,0]]\n",
    "deu_eng[:,1] = [s.translate(str.maketrans('', '', string.punctuation)) for s in deu_eng[:,1]]"
   ]
  },
  {
   "cell_type": "code",
   "execution_count": 8,
   "metadata": {},
   "outputs": [
    {
     "data": {
      "text/plain": [
       "array([['Hi', 'Hallo',\n",
       "        'CC-BY 2.0 (France) Attribution: tatoeba.org #538123 (CM) & #380701 (cburgmer)'],\n",
       "       ['Hi', 'Grüß Gott',\n",
       "        'CC-BY 2.0 (France) Attribution: tatoeba.org #538123 (CM) & #659813 (Esperantostern)'],\n",
       "       ['Run', 'Lauf',\n",
       "        'CC-BY 2.0 (France) Attribution: tatoeba.org #906328 (papabear) & #941078 (Fingerhut)'],\n",
       "       ...,\n",
       "       ['I wholeheartedly agree', 'Ich stimme rückhaltlos zu',\n",
       "        'CC-BY 2.0 (France) Attribution: tatoeba.org #1488273 (Spamster) & #1693172 (al_ex_an_der)'],\n",
       "       ['I will always love you', 'Ich werde dich immer lieben',\n",
       "        'CC-BY 2.0 (France) Attribution: tatoeba.org #853146 (piksea) & #395302 (xtofu80)'],\n",
       "       ['I will be back by nine', 'Um neun bin ich wieder zurück',\n",
       "        'CC-BY 2.0 (France) Attribution: tatoeba.org #72281 (CK) & #345033 (lilygilder)']],\n",
       "      dtype='<U537')"
      ]
     },
     "execution_count": 8,
     "metadata": {},
     "output_type": "execute_result"
    }
   ],
   "source": [
    "deu_eng"
   ]
  },
  {
   "cell_type": "code",
   "execution_count": 9,
   "metadata": {
    "scrolled": true
   },
   "outputs": [],
   "source": [
    "# convert to lowercase\n",
    "for i in range(len(deu_eng)):\n",
    "    deu_eng[i,0] = deu_eng[i,0].lower()\n",
    "    \n",
    "    deu_eng[i,1] = deu_eng[i,1].lower()"
   ]
  },
  {
   "cell_type": "code",
   "execution_count": 10,
   "metadata": {},
   "outputs": [
    {
     "data": {
      "text/plain": [
       "array([['hi', 'hallo',\n",
       "        'CC-BY 2.0 (France) Attribution: tatoeba.org #538123 (CM) & #380701 (cburgmer)'],\n",
       "       ['hi', 'grüß gott',\n",
       "        'CC-BY 2.0 (France) Attribution: tatoeba.org #538123 (CM) & #659813 (Esperantostern)'],\n",
       "       ['run', 'lauf',\n",
       "        'CC-BY 2.0 (France) Attribution: tatoeba.org #906328 (papabear) & #941078 (Fingerhut)'],\n",
       "       ...,\n",
       "       ['i wholeheartedly agree', 'ich stimme rückhaltlos zu',\n",
       "        'CC-BY 2.0 (France) Attribution: tatoeba.org #1488273 (Spamster) & #1693172 (al_ex_an_der)'],\n",
       "       ['i will always love you', 'ich werde dich immer lieben',\n",
       "        'CC-BY 2.0 (France) Attribution: tatoeba.org #853146 (piksea) & #395302 (xtofu80)'],\n",
       "       ['i will be back by nine', 'um neun bin ich wieder zurück',\n",
       "        'CC-BY 2.0 (France) Attribution: tatoeba.org #72281 (CK) & #345033 (lilygilder)']],\n",
       "      dtype='<U537')"
      ]
     },
     "execution_count": 10,
     "metadata": {},
     "output_type": "execute_result"
    }
   ],
   "source": [
    "deu_eng"
   ]
  },
  {
   "cell_type": "markdown",
   "metadata": {},
   "source": [
    "#### Text to Sequence Conversion\n",
    "\n",
    "To feed our data in a Seq2Seq model, we will have to convert both the input and the output sentences into integer sequences of fixed length. Before that, let's visualise the length of the sentences. We will capture the lengths of all the sentences in two separate lists for English and German, respectively."
   ]
  },
  {
   "cell_type": "code",
   "execution_count": 11,
   "metadata": {},
   "outputs": [],
   "source": [
    "# empty lists\n",
    "eng_l = []\n",
    "deu_l = []\n",
    "\n",
    "# populate the lists with sentence lengths\n",
    "for i in deu_eng[:,0]:\n",
    "    eng_l.append(len(i.split()))\n",
    "\n",
    "for i in deu_eng[:,1]:\n",
    "    deu_l.append(len(i.split()))"
   ]
  },
  {
   "cell_type": "code",
   "execution_count": 12,
   "metadata": {},
   "outputs": [],
   "source": [
    "length_df = pd.DataFrame({'eng':eng_l, 'deu':deu_l})"
   ]
  },
  {
   "cell_type": "code",
   "execution_count": 13,
   "metadata": {},
   "outputs": [
    {
     "data": {
      "image/png": "[encoded data removed]",
      "text/plain": [
       "<Figure size 432x288 with 2 Axes>"
      ]
     },
     "metadata": {
      "needs_background": "light"
     },
     "output_type": "display_data"
    }
   ],
   "source": [
    "length_df.hist(bins = 30)\n",
    "plt.show()"
   ]
  },
  {
   "cell_type": "markdown",
   "metadata": {},
   "source": [
    "The maximum length of the German sentences is 11 and that of the English phrases is 8."
   ]
  },
  {
   "cell_type": "markdown",
   "metadata": {},
   "source": [
    "Let's vectorize our text data by using Keras's Tokenizer() class. It will turn our sentences into sequences of integers. Then we will pad those sequences with zeros to make all the sequences of same length."
   ]
  },
  {
   "cell_type": "code",
   "execution_count": 14,
   "metadata": {},
   "outputs": [],
   "source": [
    "# function to build a tokenizer\n",
    "def tokenization(lines):\n",
    "    tokenizer = Tokenizer()\n",
    "    tokenizer.fit_on_texts(lines)\n",
    "    return tokenizer"
   ]
  },
  {
   "cell_type": "code",
   "execution_count": 15,
   "metadata": {},
   "outputs": [
    {
     "name": "stdout",
     "output_type": "stream",
     "text": [
      "English Vocabulary Size: 6361\n"
     ]
    }
   ],
   "source": [
    "# prepare english tokenizer\n",
    "eng_tokenizer = tokenization(deu_eng[:, 0])\n",
    "eng_vocab_size = len(eng_tokenizer.word_index) + 1\n",
    "\n",
    "eng_length = 8\n",
    "print('English Vocabulary Size: %d' % eng_vocab_size)"
   ]
  },
  {
   "cell_type": "code",
   "execution_count": 16,
   "metadata": {},
   "outputs": [
    {
     "name": "stdout",
     "output_type": "stream",
     "text": [
      "Deutch Vocabulary Size: 10597\n"
     ]
    }
   ],
   "source": [
    "# prepare Deutch tokenizer\n",
    "deu_tokenizer = tokenization(deu_eng[:, 1])\n",
    "deu_vocab_size = len(deu_tokenizer.word_index) + 1\n",
    "\n",
    "deu_length = 8\n",
    "print('Deutch Vocabulary Size: %d' % deu_vocab_size)"
   ]
  },
  {
   "cell_type": "markdown",
   "metadata": {},
   "source": [
    "Given below is a function to prepare the sequences. It will also perform sequence padding to a maximum sentence length as mentioned above. "
   ]
  },
  {
   "cell_type": "code",
   "execution_count": 17,
   "metadata": {},
   "outputs": [],
   "source": [
    "# encode and pad sequences\n",
    "def encode_sequences(tokenizer, length, lines):\n",
    "    # integer encode sequences\n",
    "    seq = tokenizer.texts_to_sequences(lines)\n",
    "    # pad sequences with 0 values\n",
    "    seq = pad_sequences(seq, maxlen=length, padding='post')\n",
    "    return seq"
   ]
  },
  {
   "cell_type": "markdown",
   "metadata": {},
   "source": [
    "### Model Building"
   ]
  },
  {
   "cell_type": "markdown",
   "metadata": {},
   "source": [
    "We will now split the data into train and test set for model training and evaluation, respectively."
   ]
  },
  {
   "cell_type": "code",
   "execution_count": 18,
   "metadata": {},
   "outputs": [],
   "source": [
    "from sklearn.model_selection import train_test_split\n",
    "train, test = train_test_split(deu_eng, test_size=0.2, random_state = 12)"
   ]
  },
  {
   "cell_type": "markdown",
   "metadata": {},
   "source": [
    "It's time to encode the sentences. We will encode German sentences as the input sequences and English sentences as the target sequences. It will be done for both train and test datasets."
   ]
  },
  {
   "cell_type": "code",
   "execution_count": 19,
   "metadata": {},
   "outputs": [],
   "source": [
    "# prepare training data\n",
    "trainX = encode_sequences(deu_tokenizer, deu_length, train[:, 1])\n",
    "trainY = encode_sequences(eng_tokenizer, eng_length, train[:, 0])"
   ]
  },
  {
   "cell_type": "code",
   "execution_count": 20,
   "metadata": {},
   "outputs": [],
   "source": [
    "# prepare validation data\n",
    "testX = encode_sequences(deu_tokenizer, deu_length, test[:, 1])\n",
    "testY = encode_sequences(eng_tokenizer, eng_length, test[:, 0])"
   ]
  },
  {
   "cell_type": "markdown",
   "metadata": {},
   "source": [
    "Now comes the exciting part! Let us define our Seq2Seq model architecture. We are using an Embedding layer and an LSTM layer as our encoder and another LSTM layer followed by a Dense layer as the decoder.  "
   ]
  },
  {
   "cell_type": "code",
   "execution_count": 21,
   "metadata": {},
   "outputs": [],
   "source": [
    "# build NMT model\n",
    "def build_model(in_vocab, out_vocab, in_timesteps, out_timesteps, units):\n",
    "    model = Sequential()\n",
    "    model.add(Embedding(in_vocab, units, input_length=in_timesteps, mask_zero=True))\n",
    "    model.add(LSTM(units))\n",
    "    model.add(RepeatVector(out_timesteps))\n",
    "    model.add(LSTM(units, return_sequences=True))\n",
    "    model.add(Dense(out_vocab, activation='softmax'))\n",
    "    return model"
   ]
  },
  {
   "cell_type": "markdown",
   "metadata": {},
   "source": [
    "We are using RMSprop optimizer in this model as it is usually a good choice for recurrent neural networks."
   ]
  },
  {
   "cell_type": "code",
   "execution_count": 22,
   "metadata": {},
   "outputs": [
    {
     "name": "stdout",
     "output_type": "stream",
     "text": [
      "WARNING:tensorflow:From /home/nyjoey/anaconda3/envs/temporary/lib/python3.7/site-packages/keras/backend/tensorflow_backend.py:74: The name tf.get_default_graph is deprecated. Please use tf.compat.v1.get_default_graph instead.\n",
      "\n",
      "WARNING:tensorflow:From /home/nyjoey/anaconda3/envs/temporary/lib/python3.7/site-packages/keras/backend/tensorflow_backend.py:517: The name tf.placeholder is deprecated. Please use tf.compat.v1.placeholder instead.\n",
      "\n",
      "WARNING:tensorflow:From /home/nyjoey/anaconda3/envs/temporary/lib/python3.7/site-packages/keras/backend/tensorflow_backend.py:4138: The name tf.random_uniform is deprecated. Please use tf.random.uniform instead.\n",
      "\n",
      "WARNING:tensorflow:From /home/nyjoey/anaconda3/envs/temporary/lib/python3.7/site-packages/keras/backend/tensorflow_backend.py:2974: add_dispatch_support.<locals>.wrapper (from tensorflow.python.ops.array_ops) is deprecated and will be removed in a future version.\n",
      "Instructions for updating:\n",
      "Use tf.where in 2.0, which has the same broadcast rule as np.where\n",
      "WARNING:tensorflow:From /home/nyjoey/anaconda3/envs/temporary/lib/python3.7/site-packages/keras/optimizers.py:790: The name tf.train.Optimizer is deprecated. Please use tf.compat.v1.train.Optimizer instead.\n",
      "\n",
      "WARNING:tensorflow:From /home/nyjoey/anaconda3/envs/temporary/lib/python3.7/site-packages/keras/backend/tensorflow_backend.py:3341: The name tf.log is deprecated. Please use tf.math.log instead.\n",
      "\n"
     ]
    }
   ],
   "source": [
    "model = build_model(deu_vocab_size, eng_vocab_size, deu_length, eng_length, 512)\n",
    "rms = optimizers.RMSprop(lr=0.001)\n",
    "model.compile(optimizer=rms, loss='sparse_categorical_crossentropy')"
   ]
  },
  {
   "cell_type": "markdown",
   "metadata": {},
   "source": [
    "Please note that we have used __'sparse_categorical_crossentropy'__ as the loss function because it allows us to use the target sequence as it is instead of one hot encoded format. One hot encoding the target sequences with such a huge vocabulary might consume our system's entire memory."
   ]
  },
  {
   "cell_type": "markdown",
   "metadata": {},
   "source": [
    "It seems we are all set to start training our model. We will train it for 30 epochs and with a batch size of 512. You may change and play these hyperparameters. We will also be using __ModelCheckpoint()__ to save the best model with lowest validation loss. I personally prefer this method over early stopping."
   ]
  },
  {
   "cell_type": "code",
   "execution_count": null,
   "metadata": {
    "scrolled": true
   },
   "outputs": [
    {
     "name": "stdout",
     "output_type": "stream",
     "text": [
      "WARNING:tensorflow:From /home/nyjoey/anaconda3/envs/temporary/lib/python3.7/site-packages/keras/backend/tensorflow_backend.py:986: The name tf.assign_add is deprecated. Please use tf.compat.v1.assign_add instead.\n",
      "\n",
      "Train on 32000 samples, validate on 8000 samples\n",
      "Epoch 1/30\n",
      "32000/32000 [==============================] - 163s 5ms/step - loss: 3.5196 - val_loss: 2.9651\n",
      "\n",
      "Epoch 00001: val_loss improved from inf to 2.96508, saving model to model.h1.24_jan_19\n",
      "Epoch 2/30\n",
      "32000/32000 [==============================] - 170s 5ms/step - loss: 2.8612 - val_loss: 2.8555\n",
      "\n",
      "Epoch 00002: val_loss improved from 2.96508 to 2.85546, saving model to model.h1.24_jan_19\n",
      "Epoch 3/30\n",
      "32000/32000 [==============================] - 169s 5ms/step - loss: 2.6880 - val_loss: 2.6592\n",
      "\n",
      "Epoch 00003: val_loss improved from 2.85546 to 2.65923, saving model to model.h1.24_jan_19\n",
      "Epoch 4/30\n",
      "32000/32000 [==============================] - 169s 5ms/step - loss: 2.5147 - val_loss: 2.5287\n",
      "\n",
      "Epoch 00004: val_loss improved from 2.65923 to 2.52874, saving model to model.h1.24_jan_19\n",
      "Epoch 5/30\n",
      "32000/32000 [==============================] - 170s 5ms/step - loss: 2.3575 - val_loss: 2.4040\n",
      "\n",
      "Epoch 00005: val_loss improved from 2.52874 to 2.40398, saving model to model.h1.24_jan_19\n",
      "Epoch 6/30\n",
      "32000/32000 [==============================] - 174s 5ms/step - loss: 2.2190 - val_loss: 2.3237\n",
      "\n",
      "Epoch 00006: val_loss improved from 2.40398 to 2.32368, saving model to model.h1.24_jan_19\n",
      "Epoch 7/30\n",
      "32000/32000 [==============================] - 172s 5ms/step - loss: 2.0976 - val_loss: 2.2284\n",
      "\n",
      "Epoch 00007: val_loss improved from 2.32368 to 2.22844, saving model to model.h1.24_jan_19\n",
      "Epoch 8/30\n",
      "32000/32000 [==============================] - 172s 5ms/step - loss: 1.9809 - val_loss: 2.1427\n",
      "\n",
      "Epoch 00008: val_loss improved from 2.22844 to 2.14266, saving model to model.h1.24_jan_19\n",
      "Epoch 9/30\n",
      "32000/32000 [==============================] - 174s 5ms/step - loss: 1.8655 - val_loss: 2.0611\n",
      "\n",
      "Epoch 00009: val_loss improved from 2.14266 to 2.06111, saving model to model.h1.24_jan_19\n",
      "Epoch 10/30\n",
      "32000/32000 [==============================] - 176s 5ms/step - loss: 1.7541 - val_loss: 1.9884\n",
      "\n",
      "Epoch 00010: val_loss improved from 2.06111 to 1.98841, saving model to model.h1.24_jan_19\n",
      "Epoch 11/30\n",
      "32000/32000 [==============================] - 178s 6ms/step - loss: 1.6459 - val_loss: 1.9179\n",
      "\n",
      "Epoch 00011: val_loss improved from 1.98841 to 1.91790, saving model to model.h1.24_jan_19\n",
      "Epoch 12/30\n",
      "32000/32000 [==============================] - 176s 6ms/step - loss: 1.5505 - val_loss: 1.8429\n",
      "\n",
      "Epoch 00012: val_loss improved from 1.91790 to 1.84291, saving model to model.h1.24_jan_19\n",
      "Epoch 13/30\n",
      "32000/32000 [==============================] - 177s 6ms/step - loss: 1.4527 - val_loss: 1.7822\n",
      "\n",
      "Epoch 00013: val_loss improved from 1.84291 to 1.78219, saving model to model.h1.24_jan_19\n",
      "Epoch 14/30\n",
      "32000/32000 [==============================] - 178s 6ms/step - loss: 1.3642 - val_loss: 1.7311\n",
      "\n",
      "Epoch 00014: val_loss improved from 1.78219 to 1.73108, saving model to model.h1.24_jan_19\n",
      "Epoch 15/30\n",
      "32000/32000 [==============================] - 181s 6ms/step - loss: 1.2787 - val_loss: 1.6968\n",
      "\n",
      "Epoch 00015: val_loss improved from 1.73108 to 1.69675, saving model to model.h1.24_jan_19\n",
      "Epoch 16/30\n",
      "32000/32000 [==============================] - 176s 5ms/step - loss: 1.1969 - val_loss: 1.6570\n",
      "\n",
      "Epoch 00016: val_loss improved from 1.69675 to 1.65698, saving model to model.h1.24_jan_19\n",
      "Epoch 17/30\n",
      "32000/32000 [==============================] - 183s 6ms/step - loss: 1.1201 - val_loss: 1.6321\n",
      "\n",
      "Epoch 00017: val_loss improved from 1.65698 to 1.63206, saving model to model.h1.24_jan_19\n",
      "Epoch 18/30\n",
      "32000/32000 [==============================] - 180s 6ms/step - loss: 1.0444 - val_loss: 1.5808\n",
      "\n",
      "Epoch 00018: val_loss improved from 1.63206 to 1.58075, saving model to model.h1.24_jan_19\n",
      "Epoch 19/30\n",
      "32000/32000 [==============================] - 182s 6ms/step - loss: 0.9747 - val_loss: 1.5424\n",
      "\n",
      "Epoch 00019: val_loss improved from 1.58075 to 1.54236, saving model to model.h1.24_jan_19\n",
      "Epoch 20/30\n",
      "32000/32000 [==============================] - 185s 6ms/step - loss: 0.9071 - val_loss: 1.5130\n",
      "\n",
      "Epoch 00020: val_loss improved from 1.54236 to 1.51297, saving model to model.h1.24_jan_19\n",
      "Epoch 21/30\n",
      "32000/32000 [==============================] - 185s 6ms/step - loss: 0.8435 - val_loss: 1.5024\n",
      "\n",
      "Epoch 00021: val_loss improved from 1.51297 to 1.50241, saving model to model.h1.24_jan_19\n",
      "Epoch 22/30\n",
      "32000/32000 [==============================] - 183s 6ms/step - loss: 0.7831 - val_loss: 1.4672\n",
      "\n",
      "Epoch 00022: val_loss improved from 1.50241 to 1.46715, saving model to model.h1.24_jan_19\n",
      "Epoch 23/30\n",
      "32000/32000 [==============================] - 188s 6ms/step - loss: 0.7249 - val_loss: 1.4544\n",
      "\n",
      "Epoch 00023: val_loss improved from 1.46715 to 1.45437, saving model to model.h1.24_jan_19\n",
      "Epoch 24/30\n",
      "32000/32000 [==============================] - 188s 6ms/step - loss: 0.6691 - val_loss: 1.4386\n",
      "\n",
      "Epoch 00024: val_loss improved from 1.45437 to 1.43858, saving model to model.h1.24_jan_19\n",
      "Epoch 25/30\n",
      "32000/32000 [==============================] - 189s 6ms/step - loss: 0.6198 - val_loss: 1.4292\n",
      "\n",
      "Epoch 00025: val_loss improved from 1.43858 to 1.42919, saving model to model.h1.24_jan_19\n",
      "Epoch 26/30\n",
      "32000/32000 [==============================] - 185s 6ms/step - loss: 0.5690 - val_loss: 1.4159\n",
      "\n",
      "Epoch 00026: val_loss improved from 1.42919 to 1.41590, saving model to model.h1.24_jan_19\n",
      "Epoch 27/30\n",
      "32000/32000 [==============================] - 183s 6ms/step - loss: 0.5247 - val_loss: 1.4093\n",
      "\n",
      "Epoch 00027: val_loss improved from 1.41590 to 1.40926, saving model to model.h1.24_jan_19\n",
      "Epoch 28/30\n",
      "32000/32000 [==============================] - 187s 6ms/step - loss: 0.4810 - val_loss: 1.3899\n",
      "\n",
      "Epoch 00028: val_loss improved from 1.40926 to 1.38993, saving model to model.h1.24_jan_19\n",
      "Epoch 29/30\n",
      "32000/32000 [==============================] - 185s 6ms/step - loss: 0.4407 - val_loss: 1.3930\n",
      "\n",
      "Epoch 00029: val_loss did not improve from 1.38993\n",
      "Epoch 30/30\n",
      "27136/32000 [========================>.....] - ETA: 26s - loss: 0.4012"
     ]
    }
   ],
   "source": [
    "filename = 'model.h1.24_jan_19'\n",
    "checkpoint = ModelCheckpoint(filename, monitor='val_loss', verbose=1, save_best_only=True, mode='min')\n",
    "\n",
    "history = model.fit(trainX, trainY.reshape(trainY.shape[0], trainY.shape[1], 1), \n",
    "          epochs=30, batch_size=512, \n",
    "          validation_split = 0.2,\n",
    "          callbacks=[checkpoint], verbose=1)"
   ]
  },
  {
   "cell_type": "markdown",
   "metadata": {},
   "source": [
    "Let's compare the training loss and the validation loss."
   ]
  },
  {
   "cell_type": "code",
   "execution_count": null,
   "metadata": {},
   "outputs": [],
   "source": [
    "plt.plot(history.history['loss'])\n",
    "plt.plot(history.history['val_loss'])\n",
    "plt.legend(['train','validation'])\n",
    "plt.show()"
   ]
  },
  {
   "cell_type": "markdown",
   "metadata": {},
   "source": [
    "### Make Predictions"
   ]
  },
  {
   "cell_type": "markdown",
   "metadata": {},
   "source": [
    "Let's load the saved model to make predictions."
   ]
  },
  {
   "cell_type": "code",
   "execution_count": null,
   "metadata": {},
   "outputs": [],
   "source": [
    "model = load_model('model.h1.24_jan_19')\n",
    "preds = model.predict_classes(testX.reshape((testX.shape[0],testX.shape[1])))"
   ]
  },
  {
   "cell_type": "code",
   "execution_count": null,
   "metadata": {},
   "outputs": [],
   "source": [
    "def get_word(n, tokenizer):\n",
    "    for word, index in tokenizer.word_index.items():\n",
    "        if index == n:\n",
    "            return word\n",
    "    return None"
   ]
  },
  {
   "cell_type": "code",
   "execution_count": null,
   "metadata": {},
   "outputs": [],
   "source": [
    "# convert predictions into text (English)\n",
    "preds_text = []\n",
    "for i in preds:\n",
    "    temp = []\n",
    "    for j in range(len(i)):\n",
    "        t = get_word(i[j], eng_tokenizer)\n",
    "        if j > 0:\n",
    "            if (t == get_word(i[j-1], eng_tokenizer)) or (t == None):\n",
    "                temp.append('')\n",
    "            else:\n",
    "                temp.append(t)\n",
    "             \n",
    "        else:\n",
    "            if(t == None):\n",
    "                temp.append('')\n",
    "            else:\n",
    "                temp.append(t)            \n",
    "        \n",
    "    preds_text.append(' '.join(temp))"
   ]
  },
  {
   "cell_type": "code",
   "execution_count": null,
   "metadata": {},
   "outputs": [],
   "source": [
    "pred_df = pd.DataFrame({'actual' : test[:,0], 'predicted' : preds_text})"
   ]
  },
  {
   "cell_type": "code",
   "execution_count": null,
   "metadata": {},
   "outputs": [],
   "source": [
    "pd.set_option('display.max_colwidth', 200)"
   ]
  },
  {
   "cell_type": "code",
   "execution_count": null,
   "metadata": {},
   "outputs": [],
   "source": [
    "pred_df.head(15)"
   ]
  },
  {
   "cell_type": "code",
   "execution_count": null,
   "metadata": {},
   "outputs": [],
   "source": [
    "pred_df.tail(15)"
   ]
  },
  {
   "cell_type": "code",
   "execution_count": null,
   "metadata": {},
   "outputs": [],
   "source": [
    "pred_df.tail(15)"
   ]
  },
  {
   "cell_type": "code",
   "execution_count": null,
   "metadata": {},
   "outputs": [],
   "source": [
    "pred_df.sample(15)"
   ]
  },
  {
   "cell_type": "code",
   "execution_count": null,
   "metadata": {},
   "outputs": [],
   "source": []
  }
 ],
 "metadata": {
  "kernelspec": {
   "display_name": "Python 3",
   "language": "python",
   "name": "python3"
  },
  "language_info": {
   "codemirror_mode": {
    "name": "ipython",
    "version": 3
   },
   "file_extension": ".py",
   "mimetype": "text/x-python",
   "name": "python",
   "nbconvert_exporter": "python",
   "pygments_lexer": "ipython3",
   "version": "3.7.4"
  }
 },
 "nbformat": 4,
 "nbformat_minor": 2
}
